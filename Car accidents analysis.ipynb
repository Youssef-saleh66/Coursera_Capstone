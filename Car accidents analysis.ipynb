{
 "cells": [
  {
   "cell_type": "markdown",
   "metadata": {},
   "source": [
    "<h1 style=\"text-align: center;\"><strong>Severity of Car Accidents Classification</strong></h1>"
   ]
  },
  {
   "cell_type": "markdown",
   "metadata": {},
   "source": [
    "<br>\n",
    "<h2>Project Overview</h2>"
   ]
  },
  {
   "cell_type": "markdown",
   "metadata": {},
   "source": [
    "This project is a capstone project for Data analysis course on Corsera, which is set up by IBM. During this project a dataset of car accidents will be analysed using Python. The dataset has many attributes which would provide us with a wide range of information on different circumstances surrounding the accidents. First, the data will be analysed to understand the attributes and which information would be useful for our analysis. Then the most suitable machine learning technique would be chosen to set up a model to predict severity future accidents. Finally, the model will be deployed and tested to check the accuracy of the set up model."
   ]
  },
  {
   "cell_type": "markdown",
   "metadata": {},
   "source": [
    "<h3>Libraries to be used in the analysis</h3>"
   ]
  },
  {
   "cell_type": "code",
   "execution_count": 38,
   "metadata": {},
   "outputs": [],
   "source": [
    "import pandas as pd\n",
    "import numpy as np\n",
    "from sklearn.model_selection import train_test_split\n",
    "from sklearn.preprocessing import LabelEncoder\n",
    "import seaborn as sns\n",
    "from matplotlib import pyplot as plt\n",
    "from sklearn import metrics\n",
    "from sklearn.linear_model import LogisticRegression \n",
    "from sklearn.tree import DecisionTreeClassifier\n",
    "from sklearn.svm import SVC\n",
    "from sklearn.metrics import classification_report, confusion_matrix\n",
    "import itertools\n",
    "from sklearn import datasets\n",
    "from sklearn.tree import export_graphviz\n",
    "import cv2\n",
    "%matplotlib inline "
   ]
  },
  {
   "cell_type": "markdown",
   "metadata": {},
   "source": [
    "<h2>Problem Description</h2>"
   ]
  },
  {
   "cell_type": "markdown",
   "metadata": {},
   "source": [
    "Car accidents is a serious problem and lead to heavy losses on both human lives and money. During recent years and with the advancments in technology and safety in cars, nomber of fatalities has been decreasing continiously. Also the safety and organizational parameters for traffic have been conducted by many governments, which also helped a lot in decreasing the nomber of accidents. However, there are still accidents and they are not completely prevented. Hence, it would be a great advantage to be able to predict the most common type of accidents and their respective severity, so that we concentrate our efforts on these severe types of accidents and try to minimize them. Therefore a dataset is being analysed during this notebook and then a model will be created which will predict the severity of car accidents depending on a wide range of significant attributes."
   ]
  },
  {
   "cell_type": "markdown",
   "metadata": {},
   "source": [
    "\n",
    "<h2>Data Understanding</h2>"
   ]
  },
  {
   "cell_type": "markdown",
   "metadata": {},
   "source": [
    "The target of this project is accidents severity, hence a labeled dataset with accidents severity types is needed and of course various attributes to create a more inclusive model. There are many sources to get such dataset, however a sample dataset provided by Corsera will be used during the course of this notebook and can be found <a href='https://s3.us.cloud-object-storage.appdomain.cloud/cf-courses-data/CognitiveClass/DP0701EN/version-2/Data-Collisions.csv'>here</a>. The dataset consists of all types of accidents in the city of Seattle since the year 2004. It has 38 attributes, 194673 observations and contains attribute for accidents severity (our target). Moreover, the significance of attributes will be assessed and then chosen accordingly. The unused attributes will be droped out of our dataset and the missing values will be dealt with during preprocessing. Since grouping of already labeled accidents severity is the objective, Classification learning algorithm will be implemented (Supervised learning) to create the intended model. "
   ]
  },
  {
   "cell_type": "code",
   "execution_count": 3,
   "metadata": {},
   "outputs": [
    {
     "data": {
      "text/html": [
       "<div>\n",
       "<style scoped>\n",
       "    .dataframe tbody tr th:only-of-type {\n",
       "        vertical-align: middle;\n",
       "    }\n",
       "\n",
       "    .dataframe tbody tr th {\n",
       "        vertical-align: top;\n",
       "    }\n",
       "\n",
       "    .dataframe thead th {\n",
       "        text-align: right;\n",
       "    }\n",
       "</style>\n",
       "<table border=\"1\" class=\"dataframe\">\n",
       "  <thead>\n",
       "    <tr style=\"text-align: right;\">\n",
       "      <th></th>\n",
       "      <th>SEVERITYCODE</th>\n",
       "      <th>X</th>\n",
       "      <th>Y</th>\n",
       "      <th>OBJECTID</th>\n",
       "      <th>INCKEY</th>\n",
       "      <th>COLDETKEY</th>\n",
       "      <th>REPORTNO</th>\n",
       "      <th>STATUS</th>\n",
       "      <th>ADDRTYPE</th>\n",
       "      <th>INTKEY</th>\n",
       "      <th>...</th>\n",
       "      <th>ROADCOND</th>\n",
       "      <th>LIGHTCOND</th>\n",
       "      <th>PEDROWNOTGRNT</th>\n",
       "      <th>SDOTCOLNUM</th>\n",
       "      <th>SPEEDING</th>\n",
       "      <th>ST_COLCODE</th>\n",
       "      <th>ST_COLDESC</th>\n",
       "      <th>SEGLANEKEY</th>\n",
       "      <th>CROSSWALKKEY</th>\n",
       "      <th>HITPARKEDCAR</th>\n",
       "    </tr>\n",
       "  </thead>\n",
       "  <tbody>\n",
       "    <tr>\n",
       "      <th>0</th>\n",
       "      <td>2</td>\n",
       "      <td>-122.323148</td>\n",
       "      <td>47.703140</td>\n",
       "      <td>1</td>\n",
       "      <td>1307</td>\n",
       "      <td>1307</td>\n",
       "      <td>3502005</td>\n",
       "      <td>Matched</td>\n",
       "      <td>Intersection</td>\n",
       "      <td>37475.0</td>\n",
       "      <td>...</td>\n",
       "      <td>Wet</td>\n",
       "      <td>Daylight</td>\n",
       "      <td>NaN</td>\n",
       "      <td>NaN</td>\n",
       "      <td>NaN</td>\n",
       "      <td>10</td>\n",
       "      <td>Entering at angle</td>\n",
       "      <td>0</td>\n",
       "      <td>0</td>\n",
       "      <td>N</td>\n",
       "    </tr>\n",
       "    <tr>\n",
       "      <th>1</th>\n",
       "      <td>1</td>\n",
       "      <td>-122.347294</td>\n",
       "      <td>47.647172</td>\n",
       "      <td>2</td>\n",
       "      <td>52200</td>\n",
       "      <td>52200</td>\n",
       "      <td>2607959</td>\n",
       "      <td>Matched</td>\n",
       "      <td>Block</td>\n",
       "      <td>NaN</td>\n",
       "      <td>...</td>\n",
       "      <td>Wet</td>\n",
       "      <td>Dark - Street Lights On</td>\n",
       "      <td>NaN</td>\n",
       "      <td>6354039.0</td>\n",
       "      <td>NaN</td>\n",
       "      <td>11</td>\n",
       "      <td>From same direction - both going straight - bo...</td>\n",
       "      <td>0</td>\n",
       "      <td>0</td>\n",
       "      <td>N</td>\n",
       "    </tr>\n",
       "    <tr>\n",
       "      <th>2</th>\n",
       "      <td>1</td>\n",
       "      <td>-122.334540</td>\n",
       "      <td>47.607871</td>\n",
       "      <td>3</td>\n",
       "      <td>26700</td>\n",
       "      <td>26700</td>\n",
       "      <td>1482393</td>\n",
       "      <td>Matched</td>\n",
       "      <td>Block</td>\n",
       "      <td>NaN</td>\n",
       "      <td>...</td>\n",
       "      <td>Dry</td>\n",
       "      <td>Daylight</td>\n",
       "      <td>NaN</td>\n",
       "      <td>4323031.0</td>\n",
       "      <td>NaN</td>\n",
       "      <td>32</td>\n",
       "      <td>One parked--one moving</td>\n",
       "      <td>0</td>\n",
       "      <td>0</td>\n",
       "      <td>N</td>\n",
       "    </tr>\n",
       "    <tr>\n",
       "      <th>3</th>\n",
       "      <td>1</td>\n",
       "      <td>-122.334803</td>\n",
       "      <td>47.604803</td>\n",
       "      <td>4</td>\n",
       "      <td>1144</td>\n",
       "      <td>1144</td>\n",
       "      <td>3503937</td>\n",
       "      <td>Matched</td>\n",
       "      <td>Block</td>\n",
       "      <td>NaN</td>\n",
       "      <td>...</td>\n",
       "      <td>Dry</td>\n",
       "      <td>Daylight</td>\n",
       "      <td>NaN</td>\n",
       "      <td>NaN</td>\n",
       "      <td>NaN</td>\n",
       "      <td>23</td>\n",
       "      <td>From same direction - all others</td>\n",
       "      <td>0</td>\n",
       "      <td>0</td>\n",
       "      <td>N</td>\n",
       "    </tr>\n",
       "    <tr>\n",
       "      <th>4</th>\n",
       "      <td>2</td>\n",
       "      <td>-122.306426</td>\n",
       "      <td>47.545739</td>\n",
       "      <td>5</td>\n",
       "      <td>17700</td>\n",
       "      <td>17700</td>\n",
       "      <td>1807429</td>\n",
       "      <td>Matched</td>\n",
       "      <td>Intersection</td>\n",
       "      <td>34387.0</td>\n",
       "      <td>...</td>\n",
       "      <td>Wet</td>\n",
       "      <td>Daylight</td>\n",
       "      <td>NaN</td>\n",
       "      <td>4028032.0</td>\n",
       "      <td>NaN</td>\n",
       "      <td>10</td>\n",
       "      <td>Entering at angle</td>\n",
       "      <td>0</td>\n",
       "      <td>0</td>\n",
       "      <td>N</td>\n",
       "    </tr>\n",
       "  </tbody>\n",
       "</table>\n",
       "<p>5 rows × 38 columns</p>\n",
       "</div>"
      ],
      "text/plain": [
       "   SEVERITYCODE           X          Y  OBJECTID  INCKEY  COLDETKEY REPORTNO  \\\n",
       "0             2 -122.323148  47.703140         1    1307       1307  3502005   \n",
       "1             1 -122.347294  47.647172         2   52200      52200  2607959   \n",
       "2             1 -122.334540  47.607871         3   26700      26700  1482393   \n",
       "3             1 -122.334803  47.604803         4    1144       1144  3503937   \n",
       "4             2 -122.306426  47.545739         5   17700      17700  1807429   \n",
       "\n",
       "    STATUS      ADDRTYPE   INTKEY  ... ROADCOND                LIGHTCOND  \\\n",
       "0  Matched  Intersection  37475.0  ...      Wet                 Daylight   \n",
       "1  Matched         Block      NaN  ...      Wet  Dark - Street Lights On   \n",
       "2  Matched         Block      NaN  ...      Dry                 Daylight   \n",
       "3  Matched         Block      NaN  ...      Dry                 Daylight   \n",
       "4  Matched  Intersection  34387.0  ...      Wet                 Daylight   \n",
       "\n",
       "  PEDROWNOTGRNT  SDOTCOLNUM SPEEDING ST_COLCODE  \\\n",
       "0           NaN         NaN      NaN         10   \n",
       "1           NaN   6354039.0      NaN         11   \n",
       "2           NaN   4323031.0      NaN         32   \n",
       "3           NaN         NaN      NaN         23   \n",
       "4           NaN   4028032.0      NaN         10   \n",
       "\n",
       "                                          ST_COLDESC  SEGLANEKEY  \\\n",
       "0                                  Entering at angle           0   \n",
       "1  From same direction - both going straight - bo...           0   \n",
       "2                             One parked--one moving           0   \n",
       "3                   From same direction - all others           0   \n",
       "4                                  Entering at angle           0   \n",
       "\n",
       "   CROSSWALKKEY  HITPARKEDCAR  \n",
       "0             0             N  \n",
       "1             0             N  \n",
       "2             0             N  \n",
       "3             0             N  \n",
       "4             0             N  \n",
       "\n",
       "[5 rows x 38 columns]"
      ]
     },
     "execution_count": 3,
     "metadata": {},
     "output_type": "execute_result"
    }
   ],
   "source": [
    "#importing the dataset\n",
    "df=pd.read_csv('Data-Collisions.csv',low_memory=False)\n",
    "df.head()"
   ]
  },
  {
   "cell_type": "code",
   "execution_count": 4,
   "metadata": {},
   "outputs": [
    {
     "name": "stdout",
     "output_type": "stream",
     "text": [
      "Index(['SEVERITYCODE', 'X', 'Y', 'OBJECTID', 'INCKEY', 'COLDETKEY', 'REPORTNO',\n",
      "       'STATUS', 'ADDRTYPE', 'INTKEY', 'LOCATION', 'EXCEPTRSNCODE',\n",
      "       'EXCEPTRSNDESC', 'SEVERITYCODE.1', 'SEVERITYDESC', 'COLLISIONTYPE',\n",
      "       'PERSONCOUNT', 'PEDCOUNT', 'PEDCYLCOUNT', 'VEHCOUNT', 'INCDATE',\n",
      "       'INCDTTM', 'JUNCTIONTYPE', 'SDOT_COLCODE', 'SDOT_COLDESC',\n",
      "       'INATTENTIONIND', 'UNDERINFL', 'WEATHER', 'ROADCOND', 'LIGHTCOND',\n",
      "       'PEDROWNOTGRNT', 'SDOTCOLNUM', 'SPEEDING', 'ST_COLCODE', 'ST_COLDESC',\n",
      "       'SEGLANEKEY', 'CROSSWALKKEY', 'HITPARKEDCAR'],\n",
      "      dtype='object')\n",
      "(194673, 38)\n"
     ]
    }
   ],
   "source": [
    "print(df.columns)\n",
    "print(df.shape)"
   ]
  },
  {
   "cell_type": "markdown",
   "metadata": {},
   "source": [
    "<h4>Examining Target Variable</h4>"
   ]
  },
  {
   "cell_type": "code",
   "execution_count": 5,
   "metadata": {},
   "outputs": [
    {
     "name": "stdout",
     "output_type": "stream",
     "text": [
      "1    136485\n",
      "2     58188\n",
      "Name: SEVERITYCODE, dtype: int64\n"
     ]
    },
    {
     "data": {
      "text/plain": [
       "Property Damage Only Collision    0.701099\n",
       "Injury Collision                  0.298901\n",
       "Name: SEVERITYDESC, dtype: float64"
      ]
     },
     "execution_count": 5,
     "metadata": {},
     "output_type": "execute_result"
    }
   ],
   "source": [
    "print(df['SEVERITYCODE'].value_counts())\n",
    "df['SEVERITYDESC'].value_counts(normalize=True)"
   ]
  },
  {
   "cell_type": "markdown",
   "metadata": {},
   "source": [
    "<br>\n",
    "<p>Our Target is grouped into two labeled groups:</p>\n",
    "<ul>\n",
    "<li>Group1: Property Damage Only collision</li>\n",
    "<li>Group2: Injury Collisions</li>\n",
    "</ul>  \n",
    "We will try to create a model to group accident severity accordingly"
   ]
  },
  {
   "cell_type": "markdown",
   "metadata": {},
   "source": [
    "Furthermore, it is clear that our target variable is imbalanced, where more than half of the observations lie in severity group 1 and this could affect our model and make it more biased to the greater class. Hence, we need to figure out an approach to handle such imbalance.\n",
    "There are many ways we can handle such problem such as:\n",
    "<ul>\n",
    "    <li>Up sampling the minority class (value=2) where we try to replicate random values of smaller class to increase their nomber and balance with greater class</li>\n",
    "    <li>Down sampling the majority class (value=2) where we try to remove random values of greater class to decrease their nomber and balance with smaller class</li>\n",
    "    <li>Use specific classification algorithm, which works well with imbalanced data such as Desicion Tree</li>\n",
    "    <li>Divide the greater class into two distinct groups, then apply the model on both groups, then evaluate the accuracy of both models and get the average</li>"
   ]
  },
  {
   "cell_type": "markdown",
   "metadata": {},
   "source": [
    "In this project we will use the last option from above in dealing with the imbalanced target variable. This will be carried out in preprocessing stage"
   ]
  },
  {
   "cell_type": "markdown",
   "metadata": {},
   "source": [
    "<h4>Choosing Attributes</h4>"
   ]
  },
  {
   "cell_type": "markdown",
   "metadata": {},
   "source": [
    "Choosing the most suitable features for the model can be hard especially of the dataset used has many attributes, because choosing too many attributes might lead to overfitting, which affects the accuracy of our model.\n",
    "Moreover, since this is a Car accident severity test then weather, road lighting, road conditions and main idea about the common locations of accidents must be taken into consideration. Also, it will be helpful to check for accidents during different days of the week. Hence, the features to be used in the model are: \n",
    "<ul>\n",
    "    <li>ADDRTYPE</li>\n",
    "    <li>WEATHER</li>\n",
    "    <li>LIGHTCOND</li>\n",
    "    <li>ROADCOND</li>\n",
    "    <li>INCDATE</li>\n",
    "</ul>    "
   ]
  },
  {
   "cell_type": "markdown",
   "metadata": {},
   "source": [
    "<h2>Data Preparation and Preprocessing</h2>\n",
    "<p>Now the data will be chosen and prepared for the classification model. Unused columns will be droped and missing values will be dealt with.</p>\n",
    "<h4>Examining data</h4>"
   ]
  },
  {
   "cell_type": "markdown",
   "metadata": {},
   "source": [
    "Since the target of this project is creating a classification model, all the object values need to be changed to numeric values. This can be done through either get_dummies() method or using LabelEncoder. It is also very helpful to visualize data to have a better understanding of the features, however the dataset used for this project is mostly of datatype object (string). Therefore, visualization in this project would be hard to implement.\n",
    "\n"
   ]
  },
  {
   "cell_type": "code",
   "execution_count": 6,
   "metadata": {},
   "outputs": [
    {
     "data": {
      "text/plain": [
       "ADDRTYPE        object\n",
       "WEATHER         object\n",
       "LIGHTCOND       object\n",
       "ROADCOND        object\n",
       "INCDATE         object\n",
       "SEVERITYCODE     int64\n",
       "dtype: object"
      ]
     },
     "execution_count": 6,
     "metadata": {},
     "output_type": "execute_result"
    }
   ],
   "source": [
    "#Checking data types of the chosen columns\n",
    "df[['ADDRTYPE','WEATHER','LIGHTCOND','ROADCOND','INCDATE','SEVERITYCODE']].dtypes"
   ]
  },
  {
   "cell_type": "markdown",
   "metadata": {},
   "source": [
    "Before starting our model, null values need to be dealt with. Since null values are object values then they can be dealt with  either:\n",
    "* Using probability and analyzing to predict the correct missing value like for example if the road is wet, then may be the weather was raining. \n",
    "* Using the most frequent observation (mode)\n",
    "* Dropping the rows containing these null values\n",
    "* Just add 0 on using get_dummies() method. \n",
    "\n",
    "Since this is a preliminary project, hence for simplicity and maintaining accuracy of our model, rows of missing values in multiple columns will be dropped, while rows with missing values in only one column will remain and get zero on applying get_dummies method()."
   ]
  },
  {
   "cell_type": "code",
   "execution_count": 7,
   "metadata": {},
   "outputs": [
    {
     "data": {
      "text/plain": [
       "ADDRTYPE        1926\n",
       "WEATHER         5081\n",
       "LIGHTCOND       5170\n",
       "ROADCOND        5012\n",
       "INCDATE            0\n",
       "SEVERITYCODE       0\n",
       "dtype: int64"
      ]
     },
     "execution_count": 7,
     "metadata": {},
     "output_type": "execute_result"
    }
   ],
   "source": [
    "#checking null values\n",
    "df[['ADDRTYPE','WEATHER','LIGHTCOND','ROADCOND','INCDATE','SEVERITYCODE']].isnull().sum(axis=0)"
   ]
  },
  {
   "cell_type": "markdown",
   "metadata": {},
   "source": [
    "Since the null values in WEATHER, LIGHTCOND, ROADCOND are the most then the rows which have null values in these three columns at the same time will be removed."
   ]
  },
  {
   "cell_type": "code",
   "execution_count": 8,
   "metadata": {},
   "outputs": [
    {
     "name": "stdout",
     "output_type": "stream",
     "text": [
      "Index(['ADDRTYPE', 'WEATHER', 'LIGHTCOND', 'ROADCOND', 'INCDATE',\n",
      "       'SEVERITYCODE'],\n",
      "      dtype='object')\n"
     ]
    },
    {
     "data": {
      "text/html": [
       "<div>\n",
       "<style scoped>\n",
       "    .dataframe tbody tr th:only-of-type {\n",
       "        vertical-align: middle;\n",
       "    }\n",
       "\n",
       "    .dataframe tbody tr th {\n",
       "        vertical-align: top;\n",
       "    }\n",
       "\n",
       "    .dataframe thead th {\n",
       "        text-align: right;\n",
       "    }\n",
       "</style>\n",
       "<table border=\"1\" class=\"dataframe\">\n",
       "  <thead>\n",
       "    <tr style=\"text-align: right;\">\n",
       "      <th></th>\n",
       "      <th>ADDRTYPE</th>\n",
       "      <th>WEATHER</th>\n",
       "      <th>LIGHTCOND</th>\n",
       "      <th>ROADCOND</th>\n",
       "      <th>INCDATE</th>\n",
       "      <th>SEVERITYCODE</th>\n",
       "    </tr>\n",
       "  </thead>\n",
       "  <tbody>\n",
       "    <tr>\n",
       "      <th>0</th>\n",
       "      <td>Intersection</td>\n",
       "      <td>Overcast</td>\n",
       "      <td>Daylight</td>\n",
       "      <td>Wet</td>\n",
       "      <td>2013/03/27 00:00:00+00</td>\n",
       "      <td>2</td>\n",
       "    </tr>\n",
       "    <tr>\n",
       "      <th>1</th>\n",
       "      <td>Block</td>\n",
       "      <td>Raining</td>\n",
       "      <td>Dark - Street Lights On</td>\n",
       "      <td>Wet</td>\n",
       "      <td>2006/12/20 00:00:00+00</td>\n",
       "      <td>1</td>\n",
       "    </tr>\n",
       "    <tr>\n",
       "      <th>2</th>\n",
       "      <td>Block</td>\n",
       "      <td>Overcast</td>\n",
       "      <td>Daylight</td>\n",
       "      <td>Dry</td>\n",
       "      <td>2004/11/18 00:00:00+00</td>\n",
       "      <td>1</td>\n",
       "    </tr>\n",
       "    <tr>\n",
       "      <th>3</th>\n",
       "      <td>Block</td>\n",
       "      <td>Clear</td>\n",
       "      <td>Daylight</td>\n",
       "      <td>Dry</td>\n",
       "      <td>2013/03/29 00:00:00+00</td>\n",
       "      <td>1</td>\n",
       "    </tr>\n",
       "    <tr>\n",
       "      <th>4</th>\n",
       "      <td>Intersection</td>\n",
       "      <td>Raining</td>\n",
       "      <td>Daylight</td>\n",
       "      <td>Wet</td>\n",
       "      <td>2004/01/28 00:00:00+00</td>\n",
       "      <td>2</td>\n",
       "    </tr>\n",
       "  </tbody>\n",
       "</table>\n",
       "</div>"
      ],
      "text/plain": [
       "       ADDRTYPE   WEATHER                LIGHTCOND ROADCOND  \\\n",
       "0  Intersection  Overcast                 Daylight      Wet   \n",
       "1         Block   Raining  Dark - Street Lights On      Wet   \n",
       "2         Block  Overcast                 Daylight      Dry   \n",
       "3         Block     Clear                 Daylight      Dry   \n",
       "4  Intersection   Raining                 Daylight      Wet   \n",
       "\n",
       "                  INCDATE  SEVERITYCODE  \n",
       "0  2013/03/27 00:00:00+00             2  \n",
       "1  2006/12/20 00:00:00+00             1  \n",
       "2  2004/11/18 00:00:00+00             1  \n",
       "3  2013/03/29 00:00:00+00             1  \n",
       "4  2004/01/28 00:00:00+00             2  "
      ]
     },
     "execution_count": 8,
     "metadata": {},
     "output_type": "execute_result"
    }
   ],
   "source": [
    "attributes=df[['ADDRTYPE','WEATHER','LIGHTCOND','ROADCOND','INCDATE','SEVERITYCODE']]\n",
    "print(attributes.columns)\n",
    "#Dropping the rows after getting their indicies\n",
    "nomber=attributes[attributes.WEATHER.isnull() & attributes.LIGHTCOND.isnull() & attributes.ROADCOND.isnull()].index.values\n",
    "attributes=attributes.drop(nomber,axis=0).reset_index()\n",
    "attributes.drop('index',axis=1,inplace=True)\n",
    "attributes.head()"
   ]
  },
  {
   "cell_type": "markdown",
   "metadata": {},
   "source": [
    "<h4>Examining Feature Columns</h4>"
   ]
  },
  {
   "cell_type": "markdown",
   "metadata": {},
   "source": [
    "Checking LIGHTCOND"
   ]
  },
  {
   "cell_type": "code",
   "execution_count": 9,
   "metadata": {},
   "outputs": [
    {
     "data": {
      "text/plain": [
       "Daylight                    116137\n",
       "Dark - Street Lights On      48507\n",
       "Unknown                      13473\n",
       "Dusk                          5902\n",
       "Dawn                          2502\n",
       "Dark - No Street Lights       1537\n",
       "Dark - Street Lights Off      1199\n",
       "Other                          235\n",
       "Dark - Unknown Lighting         11\n",
       "Name: LIGHTCOND, dtype: int64"
      ]
     },
     "execution_count": 9,
     "metadata": {},
     "output_type": "execute_result"
    }
   ],
   "source": [
    "attributes.LIGHTCOND.value_counts()"
   ]
  },
  {
   "cell_type": "markdown",
   "metadata": {},
   "source": [
    "We are interested to know wheather the road is light or dark, hence it is obvious that there are simmilar values which can be combined like Dark - No Street Lights, Dark - Street Lights Off and Dark - Unknown Lighting. Unkown andd Other will be dropped.   "
   ]
  },
  {
   "cell_type": "code",
   "execution_count": 10,
   "metadata": {},
   "outputs": [
    {
     "data": {
      "text/html": [
       "<div>\n",
       "<style scoped>\n",
       "    .dataframe tbody tr th:only-of-type {\n",
       "        vertical-align: middle;\n",
       "    }\n",
       "\n",
       "    .dataframe tbody tr th {\n",
       "        vertical-align: top;\n",
       "    }\n",
       "\n",
       "    .dataframe thead th {\n",
       "        text-align: right;\n",
       "    }\n",
       "</style>\n",
       "<table border=\"1\" class=\"dataframe\">\n",
       "  <thead>\n",
       "    <tr style=\"text-align: right;\">\n",
       "      <th></th>\n",
       "      <th>ADDRTYPE</th>\n",
       "      <th>WEATHER</th>\n",
       "      <th>ROADCOND</th>\n",
       "      <th>INCDATE</th>\n",
       "      <th>SEVERITYCODE</th>\n",
       "      <th>Dark - Street Lights On</th>\n",
       "      <th>Dawn</th>\n",
       "      <th>Daylight</th>\n",
       "      <th>Dusk</th>\n",
       "      <th>Dark</th>\n",
       "    </tr>\n",
       "  </thead>\n",
       "  <tbody>\n",
       "    <tr>\n",
       "      <th>0</th>\n",
       "      <td>Intersection</td>\n",
       "      <td>Overcast</td>\n",
       "      <td>Wet</td>\n",
       "      <td>2013/03/27 00:00:00+00</td>\n",
       "      <td>2</td>\n",
       "      <td>0</td>\n",
       "      <td>0</td>\n",
       "      <td>1</td>\n",
       "      <td>0</td>\n",
       "      <td>0</td>\n",
       "    </tr>\n",
       "    <tr>\n",
       "      <th>1</th>\n",
       "      <td>Block</td>\n",
       "      <td>Raining</td>\n",
       "      <td>Wet</td>\n",
       "      <td>2006/12/20 00:00:00+00</td>\n",
       "      <td>1</td>\n",
       "      <td>1</td>\n",
       "      <td>0</td>\n",
       "      <td>0</td>\n",
       "      <td>0</td>\n",
       "      <td>0</td>\n",
       "    </tr>\n",
       "    <tr>\n",
       "      <th>2</th>\n",
       "      <td>Block</td>\n",
       "      <td>Overcast</td>\n",
       "      <td>Dry</td>\n",
       "      <td>2004/11/18 00:00:00+00</td>\n",
       "      <td>1</td>\n",
       "      <td>0</td>\n",
       "      <td>0</td>\n",
       "      <td>1</td>\n",
       "      <td>0</td>\n",
       "      <td>0</td>\n",
       "    </tr>\n",
       "    <tr>\n",
       "      <th>3</th>\n",
       "      <td>Block</td>\n",
       "      <td>Clear</td>\n",
       "      <td>Dry</td>\n",
       "      <td>2013/03/29 00:00:00+00</td>\n",
       "      <td>1</td>\n",
       "      <td>0</td>\n",
       "      <td>0</td>\n",
       "      <td>1</td>\n",
       "      <td>0</td>\n",
       "      <td>0</td>\n",
       "    </tr>\n",
       "    <tr>\n",
       "      <th>4</th>\n",
       "      <td>Intersection</td>\n",
       "      <td>Raining</td>\n",
       "      <td>Wet</td>\n",
       "      <td>2004/01/28 00:00:00+00</td>\n",
       "      <td>2</td>\n",
       "      <td>0</td>\n",
       "      <td>0</td>\n",
       "      <td>1</td>\n",
       "      <td>0</td>\n",
       "      <td>0</td>\n",
       "    </tr>\n",
       "  </tbody>\n",
       "</table>\n",
       "</div>"
      ],
      "text/plain": [
       "       ADDRTYPE   WEATHER ROADCOND                 INCDATE  SEVERITYCODE  \\\n",
       "0  Intersection  Overcast      Wet  2013/03/27 00:00:00+00             2   \n",
       "1         Block   Raining      Wet  2006/12/20 00:00:00+00             1   \n",
       "2         Block  Overcast      Dry  2004/11/18 00:00:00+00             1   \n",
       "3         Block     Clear      Dry  2013/03/29 00:00:00+00             1   \n",
       "4  Intersection   Raining      Wet  2004/01/28 00:00:00+00             2   \n",
       "\n",
       "   Dark - Street Lights On  Dawn  Daylight  Dusk  Dark  \n",
       "0                        0     0         1     0     0  \n",
       "1                        1     0         0     0     0  \n",
       "2                        0     0         1     0     0  \n",
       "3                        0     0         1     0     0  \n",
       "4                        0     0         1     0     0  "
      ]
     },
     "execution_count": 10,
     "metadata": {},
     "output_type": "execute_result"
    }
   ],
   "source": [
    "#creating dummy variables of the column and saving it in temporary dataframe\n",
    "light_df=pd.get_dummies(attributes['LIGHTCOND'])\n",
    "#Combining the values of three columns into one column called Dark\n",
    "light_df['Dark']=light_df.apply(lambda row: 1 if row['Dark - Street Lights Off']==1 or row['Dark - Unknown Lighting']==1\n",
    "                              or row['Dark - No Street Lights']==1 else 0,axis=1)\n",
    "#dropping unused columns\n",
    "light_df.drop(['Unknown','Other','Dark - Street Lights Off','Dark - No Street Lights','Dark - Unknown Lighting'],axis=1,inplace=True)\n",
    "\n",
    "#merging the temp dataframe to the real dataframe\n",
    "attributes=pd.concat([attributes,light_df],axis=1)\n",
    "attributes.drop('LIGHTCOND',axis=1,inplace=True)\n",
    "attributes.head()"
   ]
  },
  {
   "cell_type": "markdown",
   "metadata": {},
   "source": [
    "Checking ROADCOND"
   ]
  },
  {
   "cell_type": "code",
   "execution_count": 11,
   "metadata": {},
   "outputs": [
    {
     "data": {
      "text/plain": [
       "Dry               124510\n",
       "Wet                47474\n",
       "Unknown            15078\n",
       "Ice                 1209\n",
       "Snow/Slush          1004\n",
       "Other                132\n",
       "Standing Water       115\n",
       "Sand/Mud/Dirt         75\n",
       "Oil                   64\n",
       "Name: ROADCOND, dtype: int64"
      ]
     },
     "execution_count": 11,
     "metadata": {},
     "output_type": "execute_result"
    }
   ],
   "source": [
    "attributes.ROADCOND.value_counts()"
   ]
  },
  {
   "cell_type": "markdown",
   "metadata": {},
   "source": [
    "Our main concer is wheather the road is dry or wet, while other cases are too few and can be neglected"
   ]
  },
  {
   "cell_type": "code",
   "execution_count": 12,
   "metadata": {},
   "outputs": [
    {
     "data": {
      "text/html": [
       "<div>\n",
       "<style scoped>\n",
       "    .dataframe tbody tr th:only-of-type {\n",
       "        vertical-align: middle;\n",
       "    }\n",
       "\n",
       "    .dataframe tbody tr th {\n",
       "        vertical-align: top;\n",
       "    }\n",
       "\n",
       "    .dataframe thead th {\n",
       "        text-align: right;\n",
       "    }\n",
       "</style>\n",
       "<table border=\"1\" class=\"dataframe\">\n",
       "  <thead>\n",
       "    <tr style=\"text-align: right;\">\n",
       "      <th></th>\n",
       "      <th>ADDRTYPE</th>\n",
       "      <th>WEATHER</th>\n",
       "      <th>INCDATE</th>\n",
       "      <th>SEVERITYCODE</th>\n",
       "      <th>Dark - Street Lights On</th>\n",
       "      <th>Dawn</th>\n",
       "      <th>Daylight</th>\n",
       "      <th>Dusk</th>\n",
       "      <th>Dark</th>\n",
       "      <th>Dry</th>\n",
       "      <th>Wet</th>\n",
       "    </tr>\n",
       "  </thead>\n",
       "  <tbody>\n",
       "    <tr>\n",
       "      <th>0</th>\n",
       "      <td>Intersection</td>\n",
       "      <td>Overcast</td>\n",
       "      <td>2013/03/27 00:00:00+00</td>\n",
       "      <td>2</td>\n",
       "      <td>0</td>\n",
       "      <td>0</td>\n",
       "      <td>1</td>\n",
       "      <td>0</td>\n",
       "      <td>0</td>\n",
       "      <td>0</td>\n",
       "      <td>1</td>\n",
       "    </tr>\n",
       "    <tr>\n",
       "      <th>1</th>\n",
       "      <td>Block</td>\n",
       "      <td>Raining</td>\n",
       "      <td>2006/12/20 00:00:00+00</td>\n",
       "      <td>1</td>\n",
       "      <td>1</td>\n",
       "      <td>0</td>\n",
       "      <td>0</td>\n",
       "      <td>0</td>\n",
       "      <td>0</td>\n",
       "      <td>0</td>\n",
       "      <td>1</td>\n",
       "    </tr>\n",
       "    <tr>\n",
       "      <th>2</th>\n",
       "      <td>Block</td>\n",
       "      <td>Overcast</td>\n",
       "      <td>2004/11/18 00:00:00+00</td>\n",
       "      <td>1</td>\n",
       "      <td>0</td>\n",
       "      <td>0</td>\n",
       "      <td>1</td>\n",
       "      <td>0</td>\n",
       "      <td>0</td>\n",
       "      <td>1</td>\n",
       "      <td>0</td>\n",
       "    </tr>\n",
       "    <tr>\n",
       "      <th>3</th>\n",
       "      <td>Block</td>\n",
       "      <td>Clear</td>\n",
       "      <td>2013/03/29 00:00:00+00</td>\n",
       "      <td>1</td>\n",
       "      <td>0</td>\n",
       "      <td>0</td>\n",
       "      <td>1</td>\n",
       "      <td>0</td>\n",
       "      <td>0</td>\n",
       "      <td>1</td>\n",
       "      <td>0</td>\n",
       "    </tr>\n",
       "    <tr>\n",
       "      <th>4</th>\n",
       "      <td>Intersection</td>\n",
       "      <td>Raining</td>\n",
       "      <td>2004/01/28 00:00:00+00</td>\n",
       "      <td>2</td>\n",
       "      <td>0</td>\n",
       "      <td>0</td>\n",
       "      <td>1</td>\n",
       "      <td>0</td>\n",
       "      <td>0</td>\n",
       "      <td>0</td>\n",
       "      <td>1</td>\n",
       "    </tr>\n",
       "  </tbody>\n",
       "</table>\n",
       "</div>"
      ],
      "text/plain": [
       "       ADDRTYPE   WEATHER                 INCDATE  SEVERITYCODE  \\\n",
       "0  Intersection  Overcast  2013/03/27 00:00:00+00             2   \n",
       "1         Block   Raining  2006/12/20 00:00:00+00             1   \n",
       "2         Block  Overcast  2004/11/18 00:00:00+00             1   \n",
       "3         Block     Clear  2013/03/29 00:00:00+00             1   \n",
       "4  Intersection   Raining  2004/01/28 00:00:00+00             2   \n",
       "\n",
       "   Dark - Street Lights On  Dawn  Daylight  Dusk  Dark  Dry  Wet  \n",
       "0                        0     0         1     0     0    0    1  \n",
       "1                        1     0         0     0     0    0    1  \n",
       "2                        0     0         1     0     0    1    0  \n",
       "3                        0     0         1     0     0    1    0  \n",
       "4                        0     0         1     0     0    0    1  "
      ]
     },
     "execution_count": 12,
     "metadata": {},
     "output_type": "execute_result"
    }
   ],
   "source": [
    "#creating dummy variables of the column and saving it in temporary dataframe\n",
    "road_df=pd.get_dummies(attributes['ROADCOND'])\n",
    "\n",
    "#Using columns of dry and wet only\n",
    "road_df=road_df[['Dry','Wet']]\n",
    "\n",
    "#merging the temp dataframe to the real dataframe\n",
    "attributes=pd.concat([attributes,road_df],axis=1)\n",
    "attributes.drop('ROADCOND',axis=1,inplace=True)\n",
    "attributes.head()"
   ]
  },
  {
   "cell_type": "markdown",
   "metadata": {},
   "source": [
    "Checking WEATHER"
   ]
  },
  {
   "cell_type": "code",
   "execution_count": 13,
   "metadata": {},
   "outputs": [
    {
     "data": {
      "text/plain": [
       "Clear                       0.586180\n",
       "Raining                     0.174823\n",
       "Overcast                    0.146177\n",
       "Unknown                     0.079597\n",
       "Snowing                     0.004784\n",
       "Other                       0.004388\n",
       "Fog/Smog/Smoke              0.003001\n",
       "Sleet/Hail/Freezing Rain    0.000596\n",
       "Blowing Sand/Dirt           0.000295\n",
       "Severe Crosswind            0.000132\n",
       "Partly Cloudy               0.000026\n",
       "Name: WEATHER, dtype: float64"
      ]
     },
     "execution_count": 13,
     "metadata": {},
     "output_type": "execute_result"
    }
   ],
   "source": [
    "attributes.WEATHER.value_counts(normalize=True)"
   ]
  },
  {
   "cell_type": "markdown",
   "metadata": {},
   "source": [
    "Obviously Clear, Raining and Overcast are the most significant and other values are too small."
   ]
  },
  {
   "cell_type": "code",
   "execution_count": 14,
   "metadata": {},
   "outputs": [
    {
     "data": {
      "text/html": [
       "<div>\n",
       "<style scoped>\n",
       "    .dataframe tbody tr th:only-of-type {\n",
       "        vertical-align: middle;\n",
       "    }\n",
       "\n",
       "    .dataframe tbody tr th {\n",
       "        vertical-align: top;\n",
       "    }\n",
       "\n",
       "    .dataframe thead th {\n",
       "        text-align: right;\n",
       "    }\n",
       "</style>\n",
       "<table border=\"1\" class=\"dataframe\">\n",
       "  <thead>\n",
       "    <tr style=\"text-align: right;\">\n",
       "      <th></th>\n",
       "      <th>ADDRTYPE</th>\n",
       "      <th>INCDATE</th>\n",
       "      <th>SEVERITYCODE</th>\n",
       "      <th>Dark - Street Lights On</th>\n",
       "      <th>Dawn</th>\n",
       "      <th>Daylight</th>\n",
       "      <th>Dusk</th>\n",
       "      <th>Dark</th>\n",
       "      <th>Dry</th>\n",
       "      <th>Wet</th>\n",
       "      <th>Clear</th>\n",
       "      <th>Raining</th>\n",
       "      <th>Overcast</th>\n",
       "    </tr>\n",
       "  </thead>\n",
       "  <tbody>\n",
       "    <tr>\n",
       "      <th>0</th>\n",
       "      <td>Intersection</td>\n",
       "      <td>2013/03/27 00:00:00+00</td>\n",
       "      <td>2</td>\n",
       "      <td>0</td>\n",
       "      <td>0</td>\n",
       "      <td>1</td>\n",
       "      <td>0</td>\n",
       "      <td>0</td>\n",
       "      <td>0</td>\n",
       "      <td>1</td>\n",
       "      <td>0</td>\n",
       "      <td>0</td>\n",
       "      <td>1</td>\n",
       "    </tr>\n",
       "    <tr>\n",
       "      <th>1</th>\n",
       "      <td>Block</td>\n",
       "      <td>2006/12/20 00:00:00+00</td>\n",
       "      <td>1</td>\n",
       "      <td>1</td>\n",
       "      <td>0</td>\n",
       "      <td>0</td>\n",
       "      <td>0</td>\n",
       "      <td>0</td>\n",
       "      <td>0</td>\n",
       "      <td>1</td>\n",
       "      <td>0</td>\n",
       "      <td>1</td>\n",
       "      <td>0</td>\n",
       "    </tr>\n",
       "    <tr>\n",
       "      <th>2</th>\n",
       "      <td>Block</td>\n",
       "      <td>2004/11/18 00:00:00+00</td>\n",
       "      <td>1</td>\n",
       "      <td>0</td>\n",
       "      <td>0</td>\n",
       "      <td>1</td>\n",
       "      <td>0</td>\n",
       "      <td>0</td>\n",
       "      <td>1</td>\n",
       "      <td>0</td>\n",
       "      <td>0</td>\n",
       "      <td>0</td>\n",
       "      <td>1</td>\n",
       "    </tr>\n",
       "    <tr>\n",
       "      <th>3</th>\n",
       "      <td>Block</td>\n",
       "      <td>2013/03/29 00:00:00+00</td>\n",
       "      <td>1</td>\n",
       "      <td>0</td>\n",
       "      <td>0</td>\n",
       "      <td>1</td>\n",
       "      <td>0</td>\n",
       "      <td>0</td>\n",
       "      <td>1</td>\n",
       "      <td>0</td>\n",
       "      <td>1</td>\n",
       "      <td>0</td>\n",
       "      <td>0</td>\n",
       "    </tr>\n",
       "    <tr>\n",
       "      <th>4</th>\n",
       "      <td>Intersection</td>\n",
       "      <td>2004/01/28 00:00:00+00</td>\n",
       "      <td>2</td>\n",
       "      <td>0</td>\n",
       "      <td>0</td>\n",
       "      <td>1</td>\n",
       "      <td>0</td>\n",
       "      <td>0</td>\n",
       "      <td>0</td>\n",
       "      <td>1</td>\n",
       "      <td>0</td>\n",
       "      <td>1</td>\n",
       "      <td>0</td>\n",
       "    </tr>\n",
       "  </tbody>\n",
       "</table>\n",
       "</div>"
      ],
      "text/plain": [
       "       ADDRTYPE                 INCDATE  SEVERITYCODE  \\\n",
       "0  Intersection  2013/03/27 00:00:00+00             2   \n",
       "1         Block  2006/12/20 00:00:00+00             1   \n",
       "2         Block  2004/11/18 00:00:00+00             1   \n",
       "3         Block  2013/03/29 00:00:00+00             1   \n",
       "4  Intersection  2004/01/28 00:00:00+00             2   \n",
       "\n",
       "   Dark - Street Lights On  Dawn  Daylight  Dusk  Dark  Dry  Wet  Clear  \\\n",
       "0                        0     0         1     0     0    0    1      0   \n",
       "1                        1     0         0     0     0    0    1      0   \n",
       "2                        0     0         1     0     0    1    0      0   \n",
       "3                        0     0         1     0     0    1    0      1   \n",
       "4                        0     0         1     0     0    0    1      0   \n",
       "\n",
       "   Raining  Overcast  \n",
       "0        0         1  \n",
       "1        1         0  \n",
       "2        0         1  \n",
       "3        0         0  \n",
       "4        1         0  "
      ]
     },
     "execution_count": 14,
     "metadata": {},
     "output_type": "execute_result"
    }
   ],
   "source": [
    "#creating dummy variables of the column and saving it in temporary dataframe\n",
    "weather_df=pd.get_dummies(attributes['WEATHER'])\n",
    "\n",
    "#Using columns of Clear, Raining and Overcast only\n",
    "weather_df=weather_df[['Clear', 'Raining', 'Overcast']]\n",
    "\n",
    "#merging the temp dataframe to the real dataframe\n",
    "attributes=pd.concat([attributes,weather_df],axis=1)\n",
    "attributes.drop('WEATHER',axis=1,inplace=True)\n",
    "attributes.head()"
   ]
  },
  {
   "cell_type": "markdown",
   "metadata": {},
   "source": [
    "Checking ADDRTYPE"
   ]
  },
  {
   "cell_type": "code",
   "execution_count": 15,
   "metadata": {},
   "outputs": [
    {
     "name": "stdout",
     "output_type": "stream",
     "text": [
      "1818\n"
     ]
    },
    {
     "data": {
      "text/plain": [
       "Block           0.657843\n",
       "Intersection    0.338192\n",
       "Alley           0.003965\n",
       "Name: ADDRTYPE, dtype: float64"
      ]
     },
     "execution_count": 15,
     "metadata": {},
     "output_type": "execute_result"
    }
   ],
   "source": [
    "print(attributes.ADDRTYPE.isnull().sum(axis=0))\n",
    "attributes.ADDRTYPE.value_counts(normalize=True)"
   ]
  },
  {
   "cell_type": "markdown",
   "metadata": {},
   "source": [
    "Since we want to minimize the nomber of columns to avoid overfitting, it is better to use LabelEncoder than get_dummies(). However, we can't use it while there are null values. So we can add in the null values the value Alley since it is already too small compared to the others and even by adding null values to it, it will remain too small compared to other values. Hence, it won't affect the overall percentage of distribution much."
   ]
  },
  {
   "cell_type": "code",
   "execution_count": 16,
   "metadata": {},
   "outputs": [
    {
     "data": {
      "text/html": [
       "<div>\n",
       "<style scoped>\n",
       "    .dataframe tbody tr th:only-of-type {\n",
       "        vertical-align: middle;\n",
       "    }\n",
       "\n",
       "    .dataframe tbody tr th {\n",
       "        vertical-align: top;\n",
       "    }\n",
       "\n",
       "    .dataframe thead th {\n",
       "        text-align: right;\n",
       "    }\n",
       "</style>\n",
       "<table border=\"1\" class=\"dataframe\">\n",
       "  <thead>\n",
       "    <tr style=\"text-align: right;\">\n",
       "      <th></th>\n",
       "      <th>ADDRTYPE</th>\n",
       "      <th>INCDATE</th>\n",
       "      <th>SEVERITYCODE</th>\n",
       "      <th>Dark - Street Lights On</th>\n",
       "      <th>Dawn</th>\n",
       "      <th>Daylight</th>\n",
       "      <th>Dusk</th>\n",
       "      <th>Dark</th>\n",
       "      <th>Dry</th>\n",
       "      <th>Wet</th>\n",
       "      <th>Clear</th>\n",
       "      <th>Raining</th>\n",
       "      <th>Overcast</th>\n",
       "    </tr>\n",
       "  </thead>\n",
       "  <tbody>\n",
       "    <tr>\n",
       "      <th>0</th>\n",
       "      <td>2</td>\n",
       "      <td>2013/03/27 00:00:00+00</td>\n",
       "      <td>2</td>\n",
       "      <td>0</td>\n",
       "      <td>0</td>\n",
       "      <td>1</td>\n",
       "      <td>0</td>\n",
       "      <td>0</td>\n",
       "      <td>0</td>\n",
       "      <td>1</td>\n",
       "      <td>0</td>\n",
       "      <td>0</td>\n",
       "      <td>1</td>\n",
       "    </tr>\n",
       "    <tr>\n",
       "      <th>1</th>\n",
       "      <td>1</td>\n",
       "      <td>2006/12/20 00:00:00+00</td>\n",
       "      <td>1</td>\n",
       "      <td>1</td>\n",
       "      <td>0</td>\n",
       "      <td>0</td>\n",
       "      <td>0</td>\n",
       "      <td>0</td>\n",
       "      <td>0</td>\n",
       "      <td>1</td>\n",
       "      <td>0</td>\n",
       "      <td>1</td>\n",
       "      <td>0</td>\n",
       "    </tr>\n",
       "    <tr>\n",
       "      <th>2</th>\n",
       "      <td>1</td>\n",
       "      <td>2004/11/18 00:00:00+00</td>\n",
       "      <td>1</td>\n",
       "      <td>0</td>\n",
       "      <td>0</td>\n",
       "      <td>1</td>\n",
       "      <td>0</td>\n",
       "      <td>0</td>\n",
       "      <td>1</td>\n",
       "      <td>0</td>\n",
       "      <td>0</td>\n",
       "      <td>0</td>\n",
       "      <td>1</td>\n",
       "    </tr>\n",
       "    <tr>\n",
       "      <th>3</th>\n",
       "      <td>1</td>\n",
       "      <td>2013/03/29 00:00:00+00</td>\n",
       "      <td>1</td>\n",
       "      <td>0</td>\n",
       "      <td>0</td>\n",
       "      <td>1</td>\n",
       "      <td>0</td>\n",
       "      <td>0</td>\n",
       "      <td>1</td>\n",
       "      <td>0</td>\n",
       "      <td>1</td>\n",
       "      <td>0</td>\n",
       "      <td>0</td>\n",
       "    </tr>\n",
       "    <tr>\n",
       "      <th>4</th>\n",
       "      <td>2</td>\n",
       "      <td>2004/01/28 00:00:00+00</td>\n",
       "      <td>2</td>\n",
       "      <td>0</td>\n",
       "      <td>0</td>\n",
       "      <td>1</td>\n",
       "      <td>0</td>\n",
       "      <td>0</td>\n",
       "      <td>0</td>\n",
       "      <td>1</td>\n",
       "      <td>0</td>\n",
       "      <td>1</td>\n",
       "      <td>0</td>\n",
       "    </tr>\n",
       "  </tbody>\n",
       "</table>\n",
       "</div>"
      ],
      "text/plain": [
       "   ADDRTYPE                 INCDATE  SEVERITYCODE  Dark - Street Lights On  \\\n",
       "0         2  2013/03/27 00:00:00+00             2                        0   \n",
       "1         1  2006/12/20 00:00:00+00             1                        1   \n",
       "2         1  2004/11/18 00:00:00+00             1                        0   \n",
       "3         1  2013/03/29 00:00:00+00             1                        0   \n",
       "4         2  2004/01/28 00:00:00+00             2                        0   \n",
       "\n",
       "   Dawn  Daylight  Dusk  Dark  Dry  Wet  Clear  Raining  Overcast  \n",
       "0     0         1     0     0    0    1      0        0         1  \n",
       "1     0         0     0     0    0    1      0        1         0  \n",
       "2     0         1     0     0    1    0      0        0         1  \n",
       "3     0         1     0     0    1    0      1        0         0  \n",
       "4     0         1     0     0    0    1      0        1         0  "
      ]
     },
     "execution_count": 16,
     "metadata": {},
     "output_type": "execute_result"
    }
   ],
   "source": [
    "#replacing null values with Alley\n",
    "attributes.ADDRTYPE.fillna('Alley',inplace=True)\n",
    "\n",
    "#To prove the percantage of values won't change much uncomment below line\n",
    "#print(attributes.ADDRTYPE.value_counts(normalize=True))\n",
    "\n",
    "#Use labelEncoder to transform ADDRTYPE column into numeric\n",
    "LE_ADDR=LabelEncoder().fit(['Block','Intersection','Alley'])\n",
    "attributes['ADDRTYPE']=LE_ADDR.transform(attributes['ADDRTYPE'])\n",
    "attributes.head()"
   ]
  },
  {
   "cell_type": "markdown",
   "metadata": {},
   "source": [
    "Let's Check the severity accross different days of the week"
   ]
  },
  {
   "cell_type": "code",
   "execution_count": 17,
   "metadata": {},
   "outputs": [
    {
     "data": {
      "image/png": "[encoded data removed]",
      "text/plain": [
       "<Figure size 432x216 with 2 Axes>"
      ]
     },
     "metadata": {
      "needs_background": "light"
     },
     "output_type": "display_data"
    }
   ],
   "source": [
    "#Convert to INCDATE datetime object\n",
    "attributes['INCDATE']=pd.to_datetime(attributes['INCDATE'])\n",
    "\n",
    "#Creating new column for days of the week\n",
    "attributes['days_week']=attributes['INCDATE'].dt.dayofweek\n",
    "\n",
    "#visualizing the distribution of accidents severity along the days of the week\n",
    "g=sns.FacetGrid(attributes, col='SEVERITYCODE',palette=\"Set1\", col_wrap=2)\n",
    "g.map(plt.hist, 'days_week', ec=\"k\")\n",
    "plt.show()"
   ]
  },
  {
   "cell_type": "markdown",
   "metadata": {},
   "source": [
    "The graph shows an increase in nombers of accidents slightly at day 4 of the week, which is end of the week. Hence, we can set day 4 as our threshold day"
   ]
  },
  {
   "cell_type": "code",
   "execution_count": 18,
   "metadata": {},
   "outputs": [
    {
     "data": {
      "text/html": [
       "<div>\n",
       "<style scoped>\n",
       "    .dataframe tbody tr th:only-of-type {\n",
       "        vertical-align: middle;\n",
       "    }\n",
       "\n",
       "    .dataframe tbody tr th {\n",
       "        vertical-align: top;\n",
       "    }\n",
       "\n",
       "    .dataframe thead th {\n",
       "        text-align: right;\n",
       "    }\n",
       "</style>\n",
       "<table border=\"1\" class=\"dataframe\">\n",
       "  <thead>\n",
       "    <tr style=\"text-align: right;\">\n",
       "      <th></th>\n",
       "      <th>ADDRTYPE</th>\n",
       "      <th>SEVERITYCODE</th>\n",
       "      <th>Dark - Street Lights On</th>\n",
       "      <th>Dawn</th>\n",
       "      <th>Daylight</th>\n",
       "      <th>Dusk</th>\n",
       "      <th>Dark</th>\n",
       "      <th>Dry</th>\n",
       "      <th>Wet</th>\n",
       "      <th>Clear</th>\n",
       "      <th>Raining</th>\n",
       "      <th>Overcast</th>\n",
       "      <th>weekend</th>\n",
       "    </tr>\n",
       "  </thead>\n",
       "  <tbody>\n",
       "    <tr>\n",
       "      <th>0</th>\n",
       "      <td>2</td>\n",
       "      <td>2</td>\n",
       "      <td>0</td>\n",
       "      <td>0</td>\n",
       "      <td>1</td>\n",
       "      <td>0</td>\n",
       "      <td>0</td>\n",
       "      <td>0</td>\n",
       "      <td>1</td>\n",
       "      <td>0</td>\n",
       "      <td>0</td>\n",
       "      <td>1</td>\n",
       "      <td>0</td>\n",
       "    </tr>\n",
       "    <tr>\n",
       "      <th>1</th>\n",
       "      <td>1</td>\n",
       "      <td>1</td>\n",
       "      <td>1</td>\n",
       "      <td>0</td>\n",
       "      <td>0</td>\n",
       "      <td>0</td>\n",
       "      <td>0</td>\n",
       "      <td>0</td>\n",
       "      <td>1</td>\n",
       "      <td>0</td>\n",
       "      <td>1</td>\n",
       "      <td>0</td>\n",
       "      <td>0</td>\n",
       "    </tr>\n",
       "    <tr>\n",
       "      <th>2</th>\n",
       "      <td>1</td>\n",
       "      <td>1</td>\n",
       "      <td>0</td>\n",
       "      <td>0</td>\n",
       "      <td>1</td>\n",
       "      <td>0</td>\n",
       "      <td>0</td>\n",
       "      <td>1</td>\n",
       "      <td>0</td>\n",
       "      <td>0</td>\n",
       "      <td>0</td>\n",
       "      <td>1</td>\n",
       "      <td>0</td>\n",
       "    </tr>\n",
       "    <tr>\n",
       "      <th>3</th>\n",
       "      <td>1</td>\n",
       "      <td>1</td>\n",
       "      <td>0</td>\n",
       "      <td>0</td>\n",
       "      <td>1</td>\n",
       "      <td>0</td>\n",
       "      <td>0</td>\n",
       "      <td>1</td>\n",
       "      <td>0</td>\n",
       "      <td>1</td>\n",
       "      <td>0</td>\n",
       "      <td>0</td>\n",
       "      <td>1</td>\n",
       "    </tr>\n",
       "    <tr>\n",
       "      <th>4</th>\n",
       "      <td>2</td>\n",
       "      <td>2</td>\n",
       "      <td>0</td>\n",
       "      <td>0</td>\n",
       "      <td>1</td>\n",
       "      <td>0</td>\n",
       "      <td>0</td>\n",
       "      <td>0</td>\n",
       "      <td>1</td>\n",
       "      <td>0</td>\n",
       "      <td>1</td>\n",
       "      <td>0</td>\n",
       "      <td>0</td>\n",
       "    </tr>\n",
       "  </tbody>\n",
       "</table>\n",
       "</div>"
      ],
      "text/plain": [
       "   ADDRTYPE  SEVERITYCODE  Dark - Street Lights On  Dawn  Daylight  Dusk  \\\n",
       "0         2             2                        0     0         1     0   \n",
       "1         1             1                        1     0         0     0   \n",
       "2         1             1                        0     0         1     0   \n",
       "3         1             1                        0     0         1     0   \n",
       "4         2             2                        0     0         1     0   \n",
       "\n",
       "   Dark  Dry  Wet  Clear  Raining  Overcast  weekend  \n",
       "0     0    0    1      0        0         1        0  \n",
       "1     0    0    1      0        1         0        0  \n",
       "2     0    1    0      0        0         1        0  \n",
       "3     0    1    0      1        0         0        1  \n",
       "4     0    0    1      0        1         0        0  "
      ]
     },
     "execution_count": 18,
     "metadata": {},
     "output_type": "execute_result"
    }
   ],
   "source": [
    "#creating new column representing either a weekend or not\n",
    "attributes['weekend']=attributes.days_week.apply(lambda x: 1 if x>3 else 0)\n",
    "\n",
    "#dropping unused columns\n",
    "attributes.drop(['INCDATE','days_week'],axis=1,inplace=True)\n",
    "attributes.head()"
   ]
  },
  {
   "cell_type": "markdown",
   "metadata": {},
   "source": [
    "<h4>Balancing the Target</h4>"
   ]
  },
  {
   "cell_type": "markdown",
   "metadata": {},
   "source": [
    "Now we will deal with the imbalance in the data as discussed above by dividing the larger severity group and then appending each half to the same smaller severity group."
   ]
  },
  {
   "cell_type": "code",
   "execution_count": 33,
   "metadata": {},
   "outputs": [],
   "source": [
    "major_class=attributes[attributes['SEVERITYCODE']==1]\n",
    "minor_class=attributes[attributes['SEVERITYCODE']==2]\n",
    "\n",
    "#dividing the majority class\n",
    "major_class_first,major_class_second=train_test_split(major_class,test_size=0.5,random_state=0)\n",
    "\n",
    "#Models from which we can set our two Y variables (dependant variables) and X variables (independant variables)\n",
    "model1=minor_class.append(major_class_first)\n",
    "model2=minor_class.append(major_class_second)"
   ]
  },
  {
   "cell_type": "markdown",
   "metadata": {},
   "source": [
    "<h4>Setting Dependent and Independent variables</h4>"
   ]
  },
  {
   "cell_type": "code",
   "execution_count": 20,
   "metadata": {},
   "outputs": [],
   "source": [
    "#Setting independent variables and saving then as numpy arrays\n",
    "X1=model1.drop('SEVERITYCODE',axis=1).values\n",
    "X2=model2.drop('SEVERITYCODE',axis=1).values\n",
    "\n",
    "#Setting dependent variables and saving then as numpy arrays\n",
    "Y1=model1.SEVERITYCODE.values\n",
    "Y2=model2.SEVERITYCODE.values"
   ]
  },
  {
   "cell_type": "markdown",
   "metadata": {},
   "source": [
    "Since the values are mostly 0 and 1 normalization is not necessary and the variables are ready for classification now."
   ]
  },
  {
   "cell_type": "markdown",
   "metadata": {},
   "source": [
    "<h4>Train Test Split</h4>"
   ]
  },
  {
   "cell_type": "markdown",
   "metadata": {},
   "source": [
    "\n",
    "Train/Test Split involves splitting the dataset into training and testing sets respectively, which are mutually exclusive. \n",
    "\n",
    "This will provide a more accurate evaluation on out-of-sample accuracy because the testing dataset is not part of the dataset that have been used to train the data. It is more realistic for real world problems.\n"
   ]
  },
  {
   "cell_type": "code",
   "execution_count": 21,
   "metadata": {},
   "outputs": [],
   "source": [
    "#Splitting first model into train and test sets with 20% as test\n",
    "X1_train,X1_test,Y1_train,Y1_test = train_test_split(X1,Y1,test_size=0.2,random_state=0)\n",
    "\n",
    "#Splitting second model into train and test sets with 20% as test\n",
    "X2_train,X2_test,Y2_train,Y2_test = train_test_split(X2,Y2,test_size=0.2,random_state=0)"
   ]
  },
  {
   "cell_type": "markdown",
   "metadata": {},
   "source": [
    "\n",
    "<h2>Classification</h2>"
   ]
  },
  {
   "cell_type": "markdown",
   "metadata": {},
   "source": [
    "Different Classification algorithms would be implemented in this project and their respective accuracy would be calculated and compared.\n",
    "\n",
    "Since the data has a lot of observations and not to consume to much time we will use:\n",
    "* Decision Trees\n",
    "* Logistic Regression\n"
   ]
  },
  {
   "cell_type": "markdown",
   "metadata": {},
   "source": [
    "<h3>Decision Trees</h3>"
   ]
  },
  {
   "cell_type": "code",
   "execution_count": 43,
   "metadata": {},
   "outputs": [
    {
     "name": "stdout",
     "output_type": "stream",
     "text": [
      "Jaccard index for model 1 is 0.6153846153846154\n",
      "F1_score for model 1 is 0.672597496638047\n",
      "\n",
      "Jaccard index for model 2 is 0.6143314294973062\n",
      "F1_score for model 2 is 0.6713156350329685\n"
     ]
    }
   ],
   "source": [
    "#model 1 and accuaracy calculations\n",
    "drugTree_1 = DecisionTreeClassifier(criterion=\"entropy\").fit(X1_train,Y1_train)\n",
    "Y_hat_model1=drugTree_1.predict(X1_test)\n",
    "print('Jaccard index for model 1 is', metrics.jaccard_similarity_score(Y1_test,Y_hat_model1))\n",
    "print('F1_score for model 1 is', metrics.f1_score(Y1_test,Y_hat_model1))\n",
    "\n",
    "#model 2 and accuaracy calculations\n",
    "drugTree_2 = DecisionTreeClassifier(criterion=\"entropy\").fit(X2_train,Y2_train)\n",
    "Y_hat_model2=drugTree_2.predict(X2_test)\n",
    "print('\\nJaccard index for model 2 is', metrics.jaccard_similarity_score(Y2_test,Y_hat_model2))\n",
    "print('F1_score for model 2 is', metrics.f1_score(Y2_test,Y_hat_model2))"
   ]
  },
  {
   "cell_type": "markdown",
   "metadata": {},
   "source": [
    "<h3>Logistic Regression</h3>"
   ]
  },
  {
   "cell_type": "code",
   "execution_count": 23,
   "metadata": {},
   "outputs": [
    {
     "name": "stdout",
     "output_type": "stream",
     "text": [
      "Jaccard index for model 1 is 0.6146959938429133\n",
      "F1_score for model 1 is 0.6737773509842924\n",
      "Log Loss for model 1 is  0.6451737496587174\n",
      "\n",
      "Jaccard index for model 2 is 0.6151010653380322\n",
      "F1_score for model 2 is 0.6742320351069665\n",
      "Log Loss for model 2 is  0.6440580456196349\n"
     ]
    }
   ],
   "source": [
    "#model 1 and accuaracy calculations\n",
    "LR_model1=LogisticRegression(solver='liblinear').fit(X1_train,Y1_train)\n",
    "Y_hat_model1=LR_model1.predict(X1_test)\n",
    "Y_hat_prob1=LR_model1.predict_proba(X1_test)\n",
    "print('Jaccard index for model 1 is', metrics.jaccard_similarity_score(Y1_test,Y_hat_model1))\n",
    "print('F1_score for model 1 is', metrics.f1_score(Y1_test,Y_hat_model1))\n",
    "print('Log Loss for model 1 is ',metrics.log_loss(Y1_test,Y_hat_prob1))\n",
    "#model 2 and accuaracy calculations\n",
    "LR_model2=LogisticRegression(solver='liblinear').fit(X2_train,Y2_train)\n",
    "Y_hat_model2=LR_model2.predict(X2_test)\n",
    "Y_hat_prob2=LR_model2.predict_proba(X2_test)\n",
    "print('\\nJaccard index for model 2 is', metrics.jaccard_similarity_score(Y2_test,Y_hat_model2))\n",
    "print('F1_score for model 2 is', metrics.f1_score(Y2_test,Y_hat_model2))\n",
    "print('Log Loss for model 2 is ',metrics.log_loss(Y2_test,Y_hat_prob2))"
   ]
  },
  {
   "cell_type": "markdown",
   "metadata": {},
   "source": [
    "## Evaluation"
   ]
  },
  {
   "cell_type": "markdown",
   "metadata": {},
   "source": [
    "<h3>Plotting a confusion matrix for the Logistic regression model</h3>"
   ]
  },
  {
   "cell_type": "markdown",
   "metadata": {},
   "source": [
    "Since the accuracy scores for both models is almost the same we will plot confusion matrix only for one model."
   ]
  },
  {
   "cell_type": "code",
   "execution_count": 38,
   "metadata": {},
   "outputs": [
    {
     "name": "stdout",
     "output_type": "stream",
     "text": [
      "[[9823 3366]\n",
      " [6146 5352]]\n"
     ]
    }
   ],
   "source": [
    "def plot_confusion_matrix(cm, classes,\n",
    "                          normalize=False,\n",
    "                          title='Confusion matrix',\n",
    "                          cmap=plt.cm.Blues):\n",
    "    \"\"\"\n",
    "    This function prints and plots the confusion matrix.\n",
    "    Normalization can be applied by setting `normalize=True`.\n",
    "    \"\"\"\n",
    "    if normalize:\n",
    "        cm = cm.astype('float') / cm.sum(axis=1)[:, np.newaxis]\n",
    "        print(\"Normalized confusion matrix\")\n",
    "    else:\n",
    "        print('Confusion matrix, without normalization')\n",
    "\n",
    "    print(cm)\n",
    "\n",
    "    plt.imshow(cm, interpolation='nearest', cmap=cmap)\n",
    "    plt.title(title)\n",
    "    plt.colorbar()\n",
    "    tick_marks = np.arange(len(classes))\n",
    "    plt.xticks(tick_marks, classes, rotation=45)\n",
    "    plt.yticks(tick_marks, classes)\n",
    "\n",
    "    fmt = '.2f' if normalize else 'd'\n",
    "    thresh = cm.max() / 2.\n",
    "    for i, j in itertools.product(range(cm.shape[0]), range(cm.shape[1])):\n",
    "        plt.text(j, i, format(cm[i, j], fmt),\n",
    "                 horizontalalignment=\"center\",\n",
    "                 color=\"white\" if cm[i, j] > thresh else \"black\")\n",
    "\n",
    "    plt.tight_layout()\n",
    "    plt.ylabel('True label')\n",
    "    plt.xlabel('Predicted label')\n",
    "print(confusion_matrix(Y1_test, Y_hat_model1, labels=[1,2]))"
   ]
  },
  {
   "cell_type": "code",
   "execution_count": 39,
   "metadata": {},
   "outputs": [
    {
     "name": "stdout",
     "output_type": "stream",
     "text": [
      "Confusion matrix, without normalization\n",
      "[[9823 3366]\n",
      " [6146 5352]]\n"
     ]
    },
    {
     "data": {
      "image/png": "[encoded data removed]",
      "text/plain": [
       "<Figure size 432x288 with 2 Axes>"
      ]
     },
     "metadata": {
      "needs_background": "light"
     },
     "output_type": "display_data"
    }
   ],
   "source": [
    "# Compute confusion matrix\n",
    "cnf_matrix = confusion_matrix(Y1_test, Y_hat_model1, labels=[1,2])\n",
    "np.set_printoptions(precision=2)\n",
    "\n",
    "\n",
    "# Plot non-normalized confusion matrix\n",
    "plt.figure()\n",
    "plot_confusion_matrix(cnf_matrix, classes=['severity=1','severity=2'],normalize= False,  title='Confusion matrix')"
   ]
  },
  {
   "cell_type": "markdown",
   "metadata": {},
   "source": [
    "The first row is for accidents whose actual severity value in test set is 1.\n",
    "Obviously, out of 24687 accidents, the severity value of 13189 of them is 1. \n",
    "And out of these 13189, the classifier correctly predicted 9823 of them as 1, and 3366 of them as 2. \n",
    "\n",
    "It means, for 9823 accidents, the actual severity value was 1 in test set, and classifier also correctly predicted those as 1. However, while the actual severity of 3366 accidents were 1, the classifier predicted those as 2, which is relatively good.\n",
    "\n",
    "While the second row. It looks like  there were 11498 accidents whom their severity value was 2. \n",
    "\n",
    "The classifier correctly predicted 5352 of them as 2, and 6146 of them wrongly as 1. So, it has not done a good job in predicting the accidents with severity value 2. We can consider it as error of model for second row. "
   ]
  },
  {
   "cell_type": "markdown",
   "metadata": {},
   "source": [
    "## Table of metrics\n",
    "Inserting average the values of the evaluation carried out on the two models for both Classification algorithms in a table.\n",
    "\n",
    "| Algorithm          | Jaccard | F1-score | LogLoss |\n",
    "|--------------------|---------|----------|---------|\n",
    "| Decision Tree      | 0.61    | 0.67     | NA      |\n",
    "| LogisticRegression | 0.61   | 0.67    | 0.64   |"
   ]
  },
  {
   "cell_type": "markdown",
   "metadata": {},
   "source": [
    "The Evaluation of our model resulted in not perfect but also not the worst scores, as it is always preferable to have accuracy scores at least above 75%. Besides, the dataset used in this project had a lot of null values, which we don't have enough information to be able to predict them. Moreover, the target variable was greatly imbalanced, which affected our model significantly, although we tried to minimize its effect. Furthermore, many of the data observations were labeled Other and Unknown in some features, thus we had to drop them. Finally, the dataset lacked numeric data, which blocked us from using visualization or correlation in choosing the features. "
   ]
  },
  {
   "cell_type": "markdown",
   "metadata": {},
   "source": [
    "\n",
    "<h4>Recommendation on collecting information</h4>\n",
    "In my opinion more observations need to be collected accurately without Unknown, Other or Null values. Also, it would be very useful to add more relatable numeric attributes like: horse power of the car, speed upon impact and age of the driver. Also starting to collect more information about drivers like gender, vision and social class because sometimes rich people are careless while driving. All of this information would be very helpful as they will allow correlation and visualization testing to take place, in order to find the most adequate features to use and create a more accurate model.  "
   ]
  },
  {
   "cell_type": "markdown",
   "metadata": {},
   "source": [
    "## Conclusion"
   ]
  },
  {
   "cell_type": "markdown",
   "metadata": {},
   "source": [
    "I have analyzed the dataset completely, applied an approach to deal with the imbalance in the dataset, chosen the most suitable features covering the circumstances of car accidents, dealt with null, Other, Unknown and values having same meaning, created classification models using two different algorithms and evaluated them using different metrics. The result was that most of the car accidents are of lower severity, however it can still be lethal. We can use our model in learning the circumstances that leads to accidents of different severity especially the higher ones, so that we remain careful and aware while designing new roads and building new cities. We will need to collect data more carefully and add new features like those suggested."
   ]
  }
 ],
 "metadata": {
  "kernelspec": {
   "display_name": "Python 3",
   "language": "python",
   "name": "python3"
  },
  "language_info": {
   "codemirror_mode": {
    "name": "ipython",
    "version": 3
   },
   "file_extension": ".py",
   "mimetype": "text/x-python",
   "name": "python",
   "nbconvert_exporter": "python",
   "pygments_lexer": "ipython3",
   "version": "3.7.7"
  }
 },
 "nbformat": 4,
 "nbformat_minor": 4
}
